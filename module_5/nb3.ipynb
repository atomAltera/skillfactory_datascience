{
 "cells": [
  {
   "cell_type": "code",
   "execution_count": 257,
   "metadata": {
    "collapsed": true
   },
   "outputs": [],
   "source": [
    "import pandas as pd\n",
    "import seaborn as sns\n",
    "import matplotlib.pyplot as plt\n",
    "import numpy as np\n",
    "from sklearn.feature_selection import f_classif, mutual_info_classif\n",
    "from sklearn.preprocessing import LabelEncoder, OneHotEncoder, StandardScaler, scale\n",
    "from sklearn.model_selection import train_test_split, GridSearchCV\n",
    "from sklearn.linear_model import LogisticRegression\n",
    "from sklearn.metrics import f1_score, recall_score, precision_score, roc_curve, roc_auc_score"
   ]
  },
  {
   "cell_type": "code",
   "execution_count": 278,
   "outputs": [],
   "source": [
    "def plot_raw_and_log(series: pd.Series, name=None, figsize=None):\n",
    "    fig, (ax1, ax2) = plt.subplots(1, 2, figsize=figsize or (10, 4))\n",
    "    ax1.hist(series)\n",
    "    ax1.set_title(f\"Raw {name}\")\n",
    "\n",
    "    ax2.hist(np.log(series))\n",
    "    ax2.set_title(f\"Log {name}\")"
   ],
   "metadata": {
    "collapsed": false,
    "pycharm": {
     "name": "#%%\n"
    }
   }
  },
  {
   "cell_type": "code",
   "execution_count": 279,
   "outputs": [
    {
     "name": "stdout",
     "output_type": "stream",
     "text": [
      "Train shape (73799, 19)\n",
      "Test  shape (36349, 18)\n"
     ]
    }
   ],
   "source": [
    "train_df = pd.read_csv(\"./train.csv\")\n",
    "test_df = pd.read_csv(\"./test.csv\")\n",
    "\n",
    "print(f\"Train shape {train_df.shape}\")\n",
    "print(f\"Test  shape {test_df.shape}\")"
   ],
   "metadata": {
    "collapsed": false,
    "pycharm": {
     "name": "#%%\n"
    }
   }
  },
  {
   "cell_type": "code",
   "execution_count": 280,
   "outputs": [
    {
     "name": "stdout",
     "output_type": "stream",
     "text": [
      "Total shape (110148, 20)\n"
     ]
    }
   ],
   "source": [
    "train_df['train'] = 1\n",
    "test_df['train'] = 0\n",
    "test_df['default'] = np.nan\n",
    "\n",
    "df = pd.concat([train_df, test_df])\n",
    "\n",
    "print(f\"Total shape {df.shape}\")"
   ],
   "metadata": {
    "collapsed": false,
    "pycharm": {
     "name": "#%%\n"
    }
   }
  },
  {
   "cell_type": "code",
   "execution_count": 281,
   "outputs": [
    {
     "name": "stdout",
     "output_type": "stream",
     "text": [
      "<class 'pandas.core.frame.DataFrame'>\n",
      "Int64Index: 110148 entries, 0 to 36348\n",
      "Data columns (total 20 columns):\n",
      " #   Column            Non-Null Count   Dtype  \n",
      "---  ------            --------------   -----  \n",
      " 0   client_id         110148 non-null  int64  \n",
      " 1   app_date          110148 non-null  object \n",
      " 2   education         109670 non-null  object \n",
      " 3   sex               110148 non-null  object \n",
      " 4   age               110148 non-null  int64  \n",
      " 5   car               110148 non-null  object \n",
      " 6   car_type          110148 non-null  object \n",
      " 7   decline_app_cnt   110148 non-null  int64  \n",
      " 8   good_work         110148 non-null  int64  \n",
      " 9   score_bki         110148 non-null  float64\n",
      " 10  bki_request_cnt   110148 non-null  int64  \n",
      " 11  region_rating     110148 non-null  int64  \n",
      " 12  home_address      110148 non-null  int64  \n",
      " 13  work_address      110148 non-null  int64  \n",
      " 14  income            110148 non-null  int64  \n",
      " 15  sna               110148 non-null  int64  \n",
      " 16  first_time        110148 non-null  int64  \n",
      " 17  foreign_passport  110148 non-null  object \n",
      " 18  default           73799 non-null   float64\n",
      " 19  train             110148 non-null  int64  \n",
      "dtypes: float64(2), int64(12), object(6)\n",
      "memory usage: 17.6+ MB\n"
     ]
    }
   ],
   "source": [
    "df.info()"
   ],
   "metadata": {
    "collapsed": false,
    "pycharm": {
     "name": "#%%\n"
    }
   }
  },
  {
   "cell_type": "code",
   "execution_count": 282,
   "outputs": [],
   "source": [
    "bin_cols = ['sex', 'car', 'car_type', 'good_work', 'foreign_passport']\n",
    "cat_cols = ['education', 'home_address', 'work_address', 'sna', 'first_time']\n",
    "cat_and_bin_cols = [*bin_cols, *cat_cols]\n",
    "num_cols = ['age', 'decline_app_cnt', 'score_bki', 'bki_request_cnt', 'region_rating', 'income', 'days_pass']\n",
    "target_col = 'default'"
   ],
   "metadata": {
    "collapsed": false,
    "pycharm": {
     "name": "#%%\n"
    }
   }
  },
  {
   "cell_type": "code",
   "execution_count": 283,
   "outputs": [
    {
     "name": "stderr",
     "output_type": "stream",
     "text": [
      "/Users/altera/test/skillfactory_datascience/venv/lib/python3.7/site-packages/ipykernel_launcher.py:2: FutureWarning: The pandas.datetime class is deprecated and will be removed from pandas in a future version. Import from datetime module instead.\n",
      "  \n"
     ]
    }
   ],
   "source": [
    "app_date = pd.to_datetime(df['app_date'], format='%d%b%Y')\n",
    "time_pass = pd.datetime.now() - app_date\n",
    "days_pass = time_pass.dt.days\n",
    "df['days_pass'] = scale(days_pass)"
   ],
   "metadata": {
    "collapsed": false,
    "pycharm": {
     "name": "#%%\n"
    }
   }
  },
  {
   "cell_type": "code",
   "execution_count": 284,
   "outputs": [],
   "source": [
    "df['education'].value_counts()\n",
    "df['education'].fillna('SCH', inplace=True)"
   ],
   "metadata": {
    "collapsed": false,
    "pycharm": {
     "name": "#%%\n"
    }
   }
  },
  {
   "cell_type": "code",
   "execution_count": 285,
   "outputs": [],
   "source": [
    "for col in cat_and_bin_cols:\n",
    "    df[col] = LabelEncoder().fit_transform(df[col])"
   ],
   "metadata": {
    "collapsed": false,
    "pycharm": {
     "name": "#%%\n"
    }
   }
  },
  {
   "cell_type": "code",
   "execution_count": 286,
   "outputs": [
    {
     "data": {
      "text/plain": "<matplotlib.axes._subplots.AxesSubplot at 0x12dcd6c50>"
     },
     "execution_count": 286,
     "metadata": {},
     "output_type": "execute_result"
    },
    {
     "data": {
      "text/plain": "<Figure size 432x288 with 1 Axes>",
      "image/png": "[encoded data removed]"
     },
     "metadata": {
      "needs_background": "light"
     },
     "output_type": "display_data"
    }
   ],
   "source": [
    "train_df = df[df['train'] == 1]\n",
    "f_val, p_val = f_classif(train_df[num_cols], train_df[target_col])\n",
    "pd.Series(f_val, index=num_cols).sort_values().plot(kind='barh')"
   ],
   "metadata": {
    "collapsed": false,
    "pycharm": {
     "name": "#%%\n"
    }
   }
  },
  {
   "cell_type": "code",
   "execution_count": 287,
   "outputs": [
    {
     "data": {
      "text/plain": "<matplotlib.axes._subplots.AxesSubplot at 0x12ddf9650>"
     },
     "execution_count": 287,
     "metadata": {},
     "output_type": "execute_result"
    },
    {
     "data": {
      "text/plain": "<Figure size 432x288 with 1 Axes>",
      "image/png": "[encoded data removed]"
     },
     "metadata": {
      "needs_background": "light"
     },
     "output_type": "display_data"
    }
   ],
   "source": [
    "\n",
    "train_df = df[df['train'] == 1]\n",
    "f_val = mutual_info_classif(train_df[cat_and_bin_cols], train_df[target_col], discrete_features=True)\n",
    "pd.Series(f_val, index=cat_and_bin_cols).sort_values().plot(kind=\"barh\")"
   ],
   "metadata": {
    "collapsed": false,
    "pycharm": {
     "name": "#%%\n"
    }
   }
  },
  {
   "cell_type": "code",
   "execution_count": 288,
   "outputs": [],
   "source": [
    "df['age'] = np.log(df['age'])\n",
    "df['income'] = np.log(df['income'])"
   ],
   "metadata": {
    "collapsed": false,
    "pycharm": {
     "name": "#%%\n"
    }
   }
  },
  {
   "cell_type": "code",
   "execution_count": 289,
   "outputs": [],
   "source": [
    "for col in num_cols:\n",
    "    df[col] = scale(df[col])"
   ],
   "metadata": {
    "collapsed": false,
    "pycharm": {
     "name": "#%%\n"
    }
   }
  },
  {
   "cell_type": "code",
   "execution_count": 290,
   "outputs": [
    {
     "data": {
      "text/plain": "                          0          1          2           3          4\nclient_id             25905      63161      25887       16222     101655\napp_date          01FEB2014  12MAR2014  01FEB2014   23JAN2014  18APR2014\nsex                       1          0          1           0          1\nage                 1.70741    1.53802   -1.39461     1.17174   0.833308\ncar                       1          0          1           0          0\ncar_type                  1          0          0           0          0\ndecline_app_cnt   -0.341893  -0.341893    2.16094   -0.341893  -0.341893\ngood_work                 0          0          0           0          1\nscore_bki         -0.208688   0.745419   0.993988   -0.306243    1.32122\nbki_request_cnt   -0.443335   0.438921  -0.443335 -0.00220668  -0.443335\nregion_rating     -0.516704  -0.516704    1.77936   -0.516704   0.248649\nincome            -0.786072  -0.708463 -0.0528218    -1.62979 -0.0528218\nforeign_passport          0          0          1           0          1\ndefault                   0          0          0           0          0\ntrain                     1          1          1           1          1\ndays_pass          0.934391  -0.281474   0.934391     1.21498   -1.43499\neducation_0               0          0          0           0          0\neducation_1               0          0          0           0          1\neducation_2               0          0          0           0          0\neducation_3               1          1          1           1          0\neducation_4               0          0          0           0          0\nhome_address_0            1          0          1           0          0\nhome_address_1            0          1          0           1          1\nhome_address_2            0          0          0           0          0\nwork_address_0            0          0          0           0          0\nwork_address_1            1          0          1           0          0\nwork_address_2            0          1          0           1          1\nsna_0                     0          0          1           1          1\nsna_1                     0          0          0           0          0\nsna_2                     0          0          0           0          0\nsna_3                     1          1          0           0          0\nfirst_time_0              1          1          0           0          0\nfirst_time_1              0          0          0           0          0\nfirst_time_2              0          0          0           1          0\nfirst_time_3              0          0          1           0          1",
      "text/html": "<div>\n<style scoped>\n    .dataframe tbody tr th:only-of-type {\n        vertical-align: middle;\n    }\n\n    .dataframe tbody tr th {\n        vertical-align: top;\n    }\n\n    .dataframe thead th {\n        text-align: right;\n    }\n</style>\n<table border=\"1\" class=\"dataframe\">\n  <thead>\n    <tr style=\"text-align: right;\">\n      <th></th>\n      <th>0</th>\n      <th>1</th>\n      <th>2</th>\n      <th>3</th>\n      <th>4</th>\n    </tr>\n  </thead>\n  <tbody>\n    <tr>\n      <th>client_id</th>\n      <td>25905</td>\n      <td>63161</td>\n      <td>25887</td>\n      <td>16222</td>\n      <td>101655</td>\n    </tr>\n    <tr>\n      <th>app_date</th>\n      <td>01FEB2014</td>\n      <td>12MAR2014</td>\n      <td>01FEB2014</td>\n      <td>23JAN2014</td>\n      <td>18APR2014</td>\n    </tr>\n    <tr>\n      <th>sex</th>\n      <td>1</td>\n      <td>0</td>\n      <td>1</td>\n      <td>0</td>\n      <td>1</td>\n    </tr>\n    <tr>\n      <th>age</th>\n      <td>1.70741</td>\n      <td>1.53802</td>\n      <td>-1.39461</td>\n      <td>1.17174</td>\n      <td>0.833308</td>\n    </tr>\n    <tr>\n      <th>car</th>\n      <td>1</td>\n      <td>0</td>\n      <td>1</td>\n      <td>0</td>\n      <td>0</td>\n    </tr>\n    <tr>\n      <th>car_type</th>\n      <td>1</td>\n      <td>0</td>\n      <td>0</td>\n      <td>0</td>\n      <td>0</td>\n    </tr>\n    <tr>\n      <th>decline_app_cnt</th>\n      <td>-0.341893</td>\n      <td>-0.341893</td>\n      <td>2.16094</td>\n      <td>-0.341893</td>\n      <td>-0.341893</td>\n    </tr>\n    <tr>\n      <th>good_work</th>\n      <td>0</td>\n      <td>0</td>\n      <td>0</td>\n      <td>0</td>\n      <td>1</td>\n    </tr>\n    <tr>\n      <th>score_bki</th>\n      <td>-0.208688</td>\n      <td>0.745419</td>\n      <td>0.993988</td>\n      <td>-0.306243</td>\n      <td>1.32122</td>\n    </tr>\n    <tr>\n      <th>bki_request_cnt</th>\n      <td>-0.443335</td>\n      <td>0.438921</td>\n      <td>-0.443335</td>\n      <td>-0.00220668</td>\n      <td>-0.443335</td>\n    </tr>\n    <tr>\n      <th>region_rating</th>\n      <td>-0.516704</td>\n      <td>-0.516704</td>\n      <td>1.77936</td>\n      <td>-0.516704</td>\n      <td>0.248649</td>\n    </tr>\n    <tr>\n      <th>income</th>\n      <td>-0.786072</td>\n      <td>-0.708463</td>\n      <td>-0.0528218</td>\n      <td>-1.62979</td>\n      <td>-0.0528218</td>\n    </tr>\n    <tr>\n      <th>foreign_passport</th>\n      <td>0</td>\n      <td>0</td>\n      <td>1</td>\n      <td>0</td>\n      <td>1</td>\n    </tr>\n    <tr>\n      <th>default</th>\n      <td>0</td>\n      <td>0</td>\n      <td>0</td>\n      <td>0</td>\n      <td>0</td>\n    </tr>\n    <tr>\n      <th>train</th>\n      <td>1</td>\n      <td>1</td>\n      <td>1</td>\n      <td>1</td>\n      <td>1</td>\n    </tr>\n    <tr>\n      <th>days_pass</th>\n      <td>0.934391</td>\n      <td>-0.281474</td>\n      <td>0.934391</td>\n      <td>1.21498</td>\n      <td>-1.43499</td>\n    </tr>\n    <tr>\n      <th>education_0</th>\n      <td>0</td>\n      <td>0</td>\n      <td>0</td>\n      <td>0</td>\n      <td>0</td>\n    </tr>\n    <tr>\n      <th>education_1</th>\n      <td>0</td>\n      <td>0</td>\n      <td>0</td>\n      <td>0</td>\n      <td>1</td>\n    </tr>\n    <tr>\n      <th>education_2</th>\n      <td>0</td>\n      <td>0</td>\n      <td>0</td>\n      <td>0</td>\n      <td>0</td>\n    </tr>\n    <tr>\n      <th>education_3</th>\n      <td>1</td>\n      <td>1</td>\n      <td>1</td>\n      <td>1</td>\n      <td>0</td>\n    </tr>\n    <tr>\n      <th>education_4</th>\n      <td>0</td>\n      <td>0</td>\n      <td>0</td>\n      <td>0</td>\n      <td>0</td>\n    </tr>\n    <tr>\n      <th>home_address_0</th>\n      <td>1</td>\n      <td>0</td>\n      <td>1</td>\n      <td>0</td>\n      <td>0</td>\n    </tr>\n    <tr>\n      <th>home_address_1</th>\n      <td>0</td>\n      <td>1</td>\n      <td>0</td>\n      <td>1</td>\n      <td>1</td>\n    </tr>\n    <tr>\n      <th>home_address_2</th>\n      <td>0</td>\n      <td>0</td>\n      <td>0</td>\n      <td>0</td>\n      <td>0</td>\n    </tr>\n    <tr>\n      <th>work_address_0</th>\n      <td>0</td>\n      <td>0</td>\n      <td>0</td>\n      <td>0</td>\n      <td>0</td>\n    </tr>\n    <tr>\n      <th>work_address_1</th>\n      <td>1</td>\n      <td>0</td>\n      <td>1</td>\n      <td>0</td>\n      <td>0</td>\n    </tr>\n    <tr>\n      <th>work_address_2</th>\n      <td>0</td>\n      <td>1</td>\n      <td>0</td>\n      <td>1</td>\n      <td>1</td>\n    </tr>\n    <tr>\n      <th>sna_0</th>\n      <td>0</td>\n      <td>0</td>\n      <td>1</td>\n      <td>1</td>\n      <td>1</td>\n    </tr>\n    <tr>\n      <th>sna_1</th>\n      <td>0</td>\n      <td>0</td>\n      <td>0</td>\n      <td>0</td>\n      <td>0</td>\n    </tr>\n    <tr>\n      <th>sna_2</th>\n      <td>0</td>\n      <td>0</td>\n      <td>0</td>\n      <td>0</td>\n      <td>0</td>\n    </tr>\n    <tr>\n      <th>sna_3</th>\n      <td>1</td>\n      <td>1</td>\n      <td>0</td>\n      <td>0</td>\n      <td>0</td>\n    </tr>\n    <tr>\n      <th>first_time_0</th>\n      <td>1</td>\n      <td>1</td>\n      <td>0</td>\n      <td>0</td>\n      <td>0</td>\n    </tr>\n    <tr>\n      <th>first_time_1</th>\n      <td>0</td>\n      <td>0</td>\n      <td>0</td>\n      <td>0</td>\n      <td>0</td>\n    </tr>\n    <tr>\n      <th>first_time_2</th>\n      <td>0</td>\n      <td>0</td>\n      <td>0</td>\n      <td>1</td>\n      <td>0</td>\n    </tr>\n    <tr>\n      <th>first_time_3</th>\n      <td>0</td>\n      <td>0</td>\n      <td>1</td>\n      <td>0</td>\n      <td>1</td>\n    </tr>\n  </tbody>\n</table>\n</div>"
     },
     "execution_count": 290,
     "metadata": {},
     "output_type": "execute_result"
    }
   ],
   "source": [
    "\n",
    "df = pd.get_dummies(df, columns=cat_cols)\n",
    "df.head().T"
   ],
   "metadata": {
    "collapsed": false,
    "pycharm": {
     "name": "#%%\n"
    }
   }
  },
  {
   "cell_type": "code",
   "execution_count": 291,
   "outputs": [],
   "source": [
    "df.drop(columns=['app_date'], inplace=True)"
   ],
   "metadata": {
    "collapsed": false,
    "pycharm": {
     "name": "#%%\n"
    }
   }
  },
  {
   "cell_type": "code",
   "execution_count": 292,
   "outputs": [
    {
     "name": "stderr",
     "output_type": "stream",
     "text": [
      "/Users/altera/test/skillfactory_datascience/venv/lib/python3.7/site-packages/pandas/core/frame.py:3997: SettingWithCopyWarning: \n",
      "A value is trying to be set on a copy of a slice from a DataFrame\n",
      "\n",
      "See the caveats in the documentation: https://pandas.pydata.org/pandas-docs/stable/user_guide/indexing.html#returning-a-view-versus-a-copy\n",
      "  errors=errors,\n"
     ]
    },
    {
     "data": {
      "text/plain": "<Figure size 432x288 with 1 Axes>",
      "image/png": "[encoded data removed]"
     },
     "metadata": {
      "needs_background": "light"
     },
     "output_type": "display_data"
    },
    {
     "name": "stdout",
     "output_type": "stream",
     "text": [
      "F1 score 0.6649098766733424\n"
     ]
    }
   ],
   "source": [
    "train_df = df[df['train'] == 1]\n",
    "train_df.drop(columns=['client_id'], inplace=True)\n",
    "\n",
    "class0 = train_df[train_df[target_col] == 0]\n",
    "class1 = train_df[train_df[target_col] == 1]\n",
    "\n",
    "class0_1, class0_2 = train_test_split(class0, train_size=class1.shape[0])\n",
    "\n",
    "train_df = pd.concat([class0_1, class1])\n",
    "\n",
    "X_train, X_test, y_train, y_test = train_test_split(\n",
    "    train_df.drop(columns=[target_col]),\n",
    "    train_df[target_col],\n",
    "    test_size=0.5,\n",
    "    random_state=123,\n",
    ")\n",
    "\n",
    "model = LogisticRegression(C=1, random_state=633, max_iter=1000)\n",
    "model.fit(X_train, y_train)\n",
    "\n",
    "y_pred = model.predict(X_test)\n",
    "\n",
    "fpr, tpr, threshold = roc_curve(y_test, y_pred)\n",
    "roc_auc = roc_auc_score(y_test, y_pred)\n",
    "plt.figure()\n",
    "plt.plot([0, 1], label='Baseline', linestyle='--')\n",
    "plt.plot(fpr, tpr, label = 'Regression')\n",
    "plt.title('Logistic Regression ROC AUC = %0.3f' % roc_auc)\n",
    "plt.ylabel('True Positive Rate')\n",
    "plt.xlabel('False Positive Rate')\n",
    "plt.legend(loc = 'lower right')\n",
    "plt.show()\n",
    "\n",
    "print(\"F1 score\", f1_score(y_test, y_pred))"
   ],
   "metadata": {
    "collapsed": false,
    "pycharm": {
     "name": "#%%\n"
    }
   }
  },
  {
   "cell_type": "code",
   "execution_count": 293,
   "outputs": [],
   "source": [
    "def predict_and_save(model, df):\n",
    "    y_pred = model.predict_proba(df.drop(columns=['client_id']))\n",
    "\n",
    "    sub_df = test_df[['client_id']]\n",
    "    sub_df['default'] = list(map(lambda x: x[1], y_pred))\n",
    "    sub_df.to_csv('submissions.csv', index=False)\n",
    "    return sub_df"
   ],
   "metadata": {
    "collapsed": false,
    "pycharm": {
     "name": "#%%\n"
    }
   }
  },
  {
   "cell_type": "code",
   "execution_count": 294,
   "outputs": [
    {
     "name": "stderr",
     "output_type": "stream",
     "text": [
      "/Users/altera/test/skillfactory_datascience/venv/lib/python3.7/site-packages/ipykernel_launcher.py:5: SettingWithCopyWarning: \n",
      "A value is trying to be set on a copy of a slice from a DataFrame.\n",
      "Try using .loc[row_indexer,col_indexer] = value instead\n",
      "\n",
      "See the caveats in the documentation: https://pandas.pydata.org/pandas-docs/stable/user_guide/indexing.html#returning-a-view-versus-a-copy\n",
      "  \"\"\"\n"
     ]
    },
    {
     "data": {
      "text/plain": "       client_id   default\n0          74835  0.198907\n1          17527  0.830405\n2          75683  0.306001\n3          26883  0.433035\n4          28862  0.146265\n...          ...       ...\n36344      83775  0.772102\n36345     106254  0.086056\n36346      81852  0.757828\n36347       1971  0.608165\n36348      69044  0.701464\n\n[36349 rows x 2 columns]",
      "text/html": "<div>\n<style scoped>\n    .dataframe tbody tr th:only-of-type {\n        vertical-align: middle;\n    }\n\n    .dataframe tbody tr th {\n        vertical-align: top;\n    }\n\n    .dataframe thead th {\n        text-align: right;\n    }\n</style>\n<table border=\"1\" class=\"dataframe\">\n  <thead>\n    <tr style=\"text-align: right;\">\n      <th></th>\n      <th>client_id</th>\n      <th>default</th>\n    </tr>\n  </thead>\n  <tbody>\n    <tr>\n      <th>0</th>\n      <td>74835</td>\n      <td>0.198907</td>\n    </tr>\n    <tr>\n      <th>1</th>\n      <td>17527</td>\n      <td>0.830405</td>\n    </tr>\n    <tr>\n      <th>2</th>\n      <td>75683</td>\n      <td>0.306001</td>\n    </tr>\n    <tr>\n      <th>3</th>\n      <td>26883</td>\n      <td>0.433035</td>\n    </tr>\n    <tr>\n      <th>4</th>\n      <td>28862</td>\n      <td>0.146265</td>\n    </tr>\n    <tr>\n      <th>...</th>\n      <td>...</td>\n      <td>...</td>\n    </tr>\n    <tr>\n      <th>36344</th>\n      <td>83775</td>\n      <td>0.772102</td>\n    </tr>\n    <tr>\n      <th>36345</th>\n      <td>106254</td>\n      <td>0.086056</td>\n    </tr>\n    <tr>\n      <th>36346</th>\n      <td>81852</td>\n      <td>0.757828</td>\n    </tr>\n    <tr>\n      <th>36347</th>\n      <td>1971</td>\n      <td>0.608165</td>\n    </tr>\n    <tr>\n      <th>36348</th>\n      <td>69044</td>\n      <td>0.701464</td>\n    </tr>\n  </tbody>\n</table>\n<p>36349 rows × 2 columns</p>\n</div>"
     },
     "execution_count": 294,
     "metadata": {},
     "output_type": "execute_result"
    }
   ],
   "source": [
    "test_df = df[df['train'] == 0]\n",
    "test_df = test_df.drop(columns=[target_col])\n",
    "predict_and_save(model, test_df)"
   ],
   "metadata": {
    "collapsed": false,
    "pycharm": {
     "name": "#%%\n"
    }
   }
  },
  {
   "cell_type": "code",
   "execution_count": 294,
   "outputs": [],
   "source": [],
   "metadata": {
    "collapsed": false,
    "pycharm": {
     "name": "#%%\n"
    }
   }
  },
  {
   "cell_type": "code",
   "execution_count": null,
   "outputs": [],
   "source": [],
   "metadata": {
    "collapsed": false,
    "pycharm": {
     "name": "#%%\n"
    }
   }
  }
 ],
 "metadata": {
  "kernelspec": {
   "display_name": "Python 3",
   "language": "python",
   "name": "python3"
  },
  "language_info": {
   "codemirror_mode": {
    "name": "ipython",
    "version": 2
   },
   "file_extension": ".py",
   "mimetype": "text/x-python",
   "name": "python",
   "nbconvert_exporter": "python",
   "pygments_lexer": "ipython2",
   "version": "2.7.6"
  }
 },
 "nbformat": 4,
 "nbformat_minor": 0
}